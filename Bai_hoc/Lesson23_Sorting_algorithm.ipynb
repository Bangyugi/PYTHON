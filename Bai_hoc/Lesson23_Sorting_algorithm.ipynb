{
 "cells": [
  {
   "cell_type": "code",
   "execution_count": 1,
   "metadata": {},
   "outputs": [
    {
     "name": "stdout",
     "output_type": "stream",
     "text": [
      "[1, 2, 3, 4, 5]\n"
     ]
    }
   ],
   "source": [
    "from math import* \n",
    "\n",
    "if __name__ == '__main__':\n",
    "    a = [5,2,4,3,1]\n",
    "    a.sort()\n",
    "    print(a)\n",
    "    a.sort(reverse= True)\n",
    "    print(a)"
   ]
  },
  {
   "cell_type": "code",
   "execution_count": 3,
   "metadata": {},
   "outputs": [
    {
     "name": "stdout",
     "output_type": "stream",
     "text": [
      "['c++', 'java', 'html', 'python']\n"
     ]
    }
   ],
   "source": [
    "from math import* \n",
    "\n",
    "if __name__ == '__main__':\n",
    "    languages = [\"python\",\"c++\",\"java\",\"html\"]\n",
    "    languages.sort(key = len)\n",
    "    print(languages)"
   ]
  },
  {
   "cell_type": "code",
   "execution_count": 5,
   "metadata": {},
   "outputs": [
    {
     "name": "stdout",
     "output_type": "stream",
     "text": [
      "[3303, 333, 235, 425, 911, 625, 564, 466]\n"
     ]
    }
   ],
   "source": [
    "from math import* \n",
    "\n",
    "def sumDigit(n):\n",
    "    res = 0\n",
    "    while n:\n",
    "        res+=n%10\n",
    "        n//=10\n",
    "    return res\n",
    "\n",
    "\n",
    "if __name__ == '__main__':\n",
    "    numbers = [425,564,3303,235,911,466,333,625]\n",
    "    numbers.sort(key = sumDigit)\n",
    "    print(numbers)"
   ]
  },
  {
   "cell_type": "code",
   "execution_count": 7,
   "metadata": {},
   "outputs": [
    {
     "name": "stdout",
     "output_type": "stream",
     "text": [
      "[3303, 333, 235, 425, 911, 625, 564, 466]\n"
     ]
    }
   ],
   "source": [
    "# sort với lambda\n",
    "def sumDigit(n):\n",
    "    res = 0\n",
    "    while n:\n",
    "        res += n % 10\n",
    "        n //= 10\n",
    "    return res\n",
    "\n",
    "\n",
    "if __name__ == \"__main__\":\n",
    "    numbers = [425, 564, 3303, 235, 911, 466, 333, 625]\n",
    "    numbers.sort(key= lambda x: sumDigit(x))\n",
    "    print(numbers)"
   ]
  },
  {
   "cell_type": "code",
   "execution_count": 10,
   "metadata": {},
   "outputs": [
    {
     "name": "stdout",
     "output_type": "stream",
     "text": [
      "[[1, 7], [2, 6], [2, 1], [3, 2], [4, 5], [7, 8]]\n",
      "[[7, 8], [4, 5], [3, 2], [2, 1], [2, 6], [1, 7]]\n"
     ]
    }
   ],
   "source": [
    "from math import *\n",
    "\n",
    "if __name__ == \"__main__\":\n",
    "    numbers = [[2, 6], [4, 5], [3, 2], [2, 1], [1, 7], [7, 8]]\n",
    "    numbers.sort(key= lambda x : x[0])\n",
    "    print(numbers)\n",
    "    numbers.sort(key= lambda x : (-x[0],x[1]))\n",
    "    print(numbers)"
   ]
  }
 ],
 "metadata": {
  "kernelspec": {
   "display_name": "Python 3",
   "language": "python",
   "name": "python3"
  },
  "language_info": {
   "codemirror_mode": {
    "name": "ipython",
    "version": 3
   },
   "file_extension": ".py",
   "mimetype": "text/x-python",
   "name": "python",
   "nbconvert_exporter": "python",
   "pygments_lexer": "ipython3",
   "version": "3.12.0"
  }
 },
 "nbformat": 4,
 "nbformat_minor": 2
}
