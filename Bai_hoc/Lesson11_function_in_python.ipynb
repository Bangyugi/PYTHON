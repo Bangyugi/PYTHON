{
 "cells": [
  {
   "cell_type": "code",
   "execution_count": 4,
   "metadata": {},
   "outputs": [
    {
     "name": "stdout",
     "output_type": "stream",
     "text": [
      "30\n",
      "Xin chào Tèo Tý Tâm\n",
      "Xin chào Tèo Tý Tâm\n",
      "None\n",
      "50\n"
     ]
    }
   ],
   "source": [
    "# function\n",
    "# a,b là tham số hình thức: parameter\n",
    "def tong(a, b):\n",
    "    res = a + b\n",
    "    return res\n",
    "\n",
    "\n",
    "def xinChao(name1, name2, name3):\n",
    "    print(\"Xin chào\", name1, name2, name3)\n",
    "\n",
    "\n",
    "m, n = 10, 20\n",
    "print(tong(m, n))  # m, n là đối số = tham số chính thức = argument\n",
    "xinChao(\"Tèo\", \"Tý\", \"Tâm\")\n",
    "print(\n",
    "    xinChao(\"Tèo\", \"Tý\", \"Tâm\")\n",
    ")  # nếu không có câu lệnh return hàm sẽ trả về giá trị none\n",
    "\n",
    "# code để chạy chương trình\n",
    "if __name__ == \"__main__\":\n",
    "    # code\n",
    "    x, y = map(int, input().split())\n",
    "    print(tong(x, y))"
   ]
  },
  {
   "cell_type": "code",
   "execution_count": 8,
   "metadata": {},
   "outputs": [
    {
     "name": "stdout",
     "output_type": "stream",
     "text": [
      "20\n"
     ]
    }
   ],
   "source": [
    "def change(n):\n",
    "    n *= 2\n",
    "\n",
    "\n",
    "if __name__ == \"__main__\":\n",
    "    n = 20\n",
    "    change(n)  # n không bị thay đổi\n",
    "    print(n)"
   ]
  },
  {
   "cell_type": "code",
   "execution_count": 10,
   "metadata": {},
   "outputs": [
    {
     "name": "stdout",
     "output_type": "stream",
     "text": [
      "xin chào Teo Ty Tam\n",
      "xin chào Kien Nam Bang\n"
     ]
    }
   ],
   "source": [
    "# keyword argument\n",
    "def xinChao(name1, name2, name3):\n",
    "    print(\"xin chào\", name1, name2, name3)\n",
    "\n",
    "\n",
    "if __name__ == \"__main__\":\n",
    "    xinChao(\"Teo\", \"Ty\", \"Tam\")  # positional argument\n",
    "    xinChao(name3=\"Bang\", name2=\"Nam\", name1=\"Kien\")  # keyword argument"
   ]
  },
  {
   "cell_type": "code",
   "execution_count": 11,
   "metadata": {},
   "outputs": [
    {
     "name": "stdout",
     "output_type": "stream",
     "text": [
      "Bang Developer\n",
      "Teo xe om\n"
     ]
    }
   ],
   "source": [
    "# default argument\n",
    "def infor(name, job=\"xe om\"):  # job là default argument\n",
    "    print(name, job)\n",
    "\n",
    "\n",
    "if __name__ == \"__main__\":\n",
    "    infor(\"Bang\", \"Developer\")\n",
    "    infor(\"Teo\")\n",
    "    "
   ]
  },
  {
   "cell_type": "code",
   "execution_count": 12,
   "metadata": {},
   "outputs": [
    {
     "name": "stdout",
     "output_type": "stream",
     "text": [
      "120\n"
     ]
    }
   ],
   "source": [
    "# viết hàm tính giai thừa\n",
    "def gt(n):\n",
    "    res = 1\n",
    "    for i in range(1, n + 1):\n",
    "        res *= i\n",
    "    return res\n",
    "\n",
    "\n",
    "if __name__ == \"__main__\":\n",
    "    print(gt(5))"
   ]
  },
  {
   "cell_type": "code",
   "execution_count": 14,
   "metadata": {},
   "outputs": [
    {
     "name": "stdout",
     "output_type": "stream",
     "text": [
      "1024\n"
     ]
    }
   ],
   "source": [
    "# viết hàm tính a^b\n",
    "def lt(a, b):\n",
    "    res = 1\n",
    "    for i in range(b):\n",
    "        res *= a\n",
    "    return res\n",
    "\n",
    "\n",
    "if __name__ == \"__main__\":\n",
    "    print(lt(2,10))"
   ]
  },
  {
   "cell_type": "code",
   "execution_count": 21,
   "metadata": {},
   "outputs": [
    {
     "name": "stdout",
     "output_type": "stream",
     "text": [
      "YES\n"
     ]
    }
   ],
   "source": [
    "# viết hàm kiểm tra số vừa chia hết cho 3 vừa chia hết cho 5, nếu đúng in ra YES ngược lại in ra NO\n",
    "\n",
    "def solve(n):\n",
    "   return True if n%3 ==0 and n%5==0 else False\n",
    "\n",
    "if __name__ == \"__main__\":\n",
    "    n= int(input())\n",
    "    if solve(n):\n",
    "        print(\"YES\")\n",
    "    else:\n",
    "       print(\"NO\")\n",
    "   \n",
    "# lưu ý: không viết hàm quá chi tiết, hãy viết hàm tổng quát để có thể tái sử dụng\n"
   ]
  },
  {
   "cell_type": "code",
   "execution_count": 22,
   "metadata": {},
   "outputs": [
    {
     "name": "stdout",
     "output_type": "stream",
     "text": [
      "(30, -10)\n",
      "45 -15\n"
     ]
    }
   ],
   "source": [
    "# hàm có thể trả về nhiều giá trị\n",
    "def tongHieu(a,b):\n",
    "    tong=a+b\n",
    "    hieu = a-b\n",
    "    return tong,hieu\n",
    "\n",
    "if __name__ == \"__main__\":\n",
    "    print(tongHieu(10,20))\n",
    "    t,h = tongHieu(15,30)\n",
    "    print(t,h)"
   ]
  },
  {
   "cell_type": "code",
   "execution_count": 1,
   "metadata": {},
   "outputs": [
    {
     "name": "stdout",
     "output_type": "stream",
     "text": [
      "EVEN\n"
     ]
    }
   ],
   "source": [
    "def solve():\n",
    "    n = int(input())\n",
    "    if n%2==0:\n",
    "        print(\"EVEN\")\n",
    "    else:\n",
    "        print(\"ODD\")\n",
    "    \n",
    "if __name__=='__main__':\n",
    "    solve()"
   ]
  },
  {
   "cell_type": "code",
   "execution_count": 2,
   "metadata": {},
   "outputs": [
    {
     "name": "stdout",
     "output_type": "stream",
     "text": [
      "30\n"
     ]
    }
   ],
   "source": [
    "def solve(a, b):\n",
    "    print(a + b)\n",
    "\n",
    "\n",
    "if __name__ == \"__main__\":\n",
    "    a, b = map(int, input().split())\n",
    "    solve(a, b)\n",
    "\n",
    "    "
   ]
  },
  {
   "cell_type": "code",
   "execution_count": 6,
   "metadata": {},
   "outputs": [
    {
     "name": "stdout",
     "output_type": "stream",
     "text": [
      "\n"
     ]
    }
   ],
   "source": [
    "s = \"12345678\"\n",
    "b = s[ :len(s)  : -1]\n",
    "print(b)"
   ]
  },
  {
   "cell_type": "code",
   "execution_count": 6,
   "metadata": {},
   "outputs": [
    {
     "name": "stdout",
     "output_type": "stream",
     "text": [
      "YES\n",
      "NO\n",
      "YES\n",
      "NO\n"
     ]
    }
   ],
   "source": [
    "from math import* \n",
    "\n",
    "# def function_name(parameters):\n",
    "    \n",
    "def kiemTraSoChan(m):\n",
    "    if (m%2==0):\n",
    "        print (\"YES\")\n",
    "    else:\n",
    "        print(\"NO\")\n",
    "\n",
    "if __name__ == '__main__':\n",
    "    a =10\n",
    "    kiemTraSoChan(a)\n",
    "    b =11\n",
    "    kiemTraSoChan(b)\n",
    "    c=12\n",
    "    kiemTraSoChan(c)\n",
    "    d=13\n",
    "    kiemTraSoChan(d)\n",
    "\n"
   ]
  },
  {
   "cell_type": "code",
   "execution_count": 12,
   "metadata": {},
   "outputs": [
    {
     "name": "stdout",
     "output_type": "stream",
     "text": [
      "2 3 5 7 11 13 17 19 23 29 31 37 41 43 47 53 59 61 67 71 73 79 83 89 97 "
     ]
    }
   ],
   "source": [
    "# viết hàm kiểu tra xem 1 số có phải là số nguyên tố hay không?\n",
    "# Số nguyên tố là số có 2 ước gồm số 1 và chính nó\n",
    "\n",
    "\n",
    "def isPrime_1(n):\n",
    "    if n < 2:\n",
    "        return False\n",
    "    for i in range(2, n):\n",
    "        if n % i == 0:\n",
    "            return False\n",
    "    return True\n",
    "\n",
    "\n",
    "def isPrime_2(n):\n",
    "    if n<2:\n",
    "        return False\n",
    "    for i in range(2, isqrt(n)+1):\n",
    "        if (n%i==0):\n",
    "            return False\n",
    "    return True\n",
    "\n",
    "n = int(input())\n",
    "\n",
    "for i in range(2, 100):\n",
    "    if isPrime_2(i):\n",
    "        print(i,end=\" \")\n"
   ]
  },
  {
   "cell_type": "code",
   "execution_count": null,
   "metadata": {},
   "outputs": [],
   "source": [
    "# viết hàm kiểu tra xem 1 số có phải là số chính phương hay không?\n",
    "# số chính phương là số có 3 ước số\n"
   ]
  },
  {
   "cell_type": "code",
   "execution_count": 15,
   "metadata": {},
   "outputs": [
    {
     "name": "stdout",
     "output_type": "stream",
     "text": [
      "4 9 25 49 121 169 289 361 529 841 961 "
     ]
    }
   ],
   "source": [
    "def isPrime_2(n):\n",
    "    if n < 2:\n",
    "        return False\n",
    "    for i in range(2, isqrt(n) + 1):\n",
    "        if n % i == 0:\n",
    "            return False\n",
    "    return True\n",
    "\n",
    "\n",
    "n = int(input())\n",
    "for i in range(2,isqrt(n)+1):\n",
    "    if (isPrime_2(i)):\n",
    "        print(i**2,end=\" \")"
   ]
  }
 ],
 "metadata": {
  "kernelspec": {
   "display_name": "Python 3",
   "language": "python",
   "name": "python3"
  },
  "language_info": {
   "codemirror_mode": {
    "name": "ipython",
    "version": 3
   },
   "file_extension": ".py",
   "mimetype": "text/x-python",
   "name": "python",
   "nbconvert_exporter": "python",
   "pygments_lexer": "ipython3",
   "version": "3.12.0"
  }
 },
 "nbformat": 4,
 "nbformat_minor": 2
}
