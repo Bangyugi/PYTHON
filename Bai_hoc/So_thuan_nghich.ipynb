{
 "cells": [
  {
   "cell_type": "code",
   "execution_count": 8,
   "metadata": {},
   "outputs": [
    {
     "name": "stdout",
     "output_type": "stream",
     "text": [
      "YES\n"
     ]
    }
   ],
   "source": [
    "from math import *\n",
    "\n",
    "\n",
    "def isPalidrome(n):\n",
    "    temp = n\n",
    "    m = 0\n",
    "    while temp > 0:\n",
    "        m = m * 10 + temp % 10\n",
    "        temp //= 10\n",
    "    return m == n\n",
    "\n",
    "\n",
    "if __name__ == \"__main__\":\n",
    "    n = input()\n",
    "    # m = n[::-1]\n",
    "    n = int(n)\n",
    "    if isPalidrome(n):\n",
    "        print(\"YES\")\n",
    "    else:\n",
    "        print(\"NO\")"
   ]
  },
  {
   "cell_type": "code",
   "execution_count": null,
   "metadata": {},
   "outputs": [],
   "source": []
  }
 ],
 "metadata": {
  "kernelspec": {
   "display_name": "Python 3",
   "language": "python",
   "name": "python3"
  },
  "language_info": {
   "codemirror_mode": {
    "name": "ipython",
    "version": 3
   },
   "file_extension": ".py",
   "mimetype": "text/x-python",
   "name": "python",
   "nbconvert_exporter": "python",
   "pygments_lexer": "ipython3",
   "version": "3.12.0"
  }
 },
 "nbformat": 4,
 "nbformat_minor": 2
}
