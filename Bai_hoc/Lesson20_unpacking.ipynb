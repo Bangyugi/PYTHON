{
 "cells": [
  {
   "cell_type": "code",
   "execution_count": 1,
   "metadata": {},
   "outputs": [
    {
     "name": "stdout",
     "output_type": "stream",
     "text": [
      "1 2 3\n"
     ]
    }
   ],
   "source": [
    "from math import *\n",
    "\n",
    "a=[1,2,3]\n",
    "x,y,z = a\n",
    "print(x,y,z)"
   ]
  },
  {
   "cell_type": "markdown",
   "metadata": {},
   "source": [
    "Kỹ thuật unpacking:\n",
    "    - Unpacking là một kỹ thuật giúp tách một tuple, list, iterable, ... ra thành các biến rời rạc\n",
    "    - Khi unpacking chú ý số lượng phần tử ở bên trái dấu bằng phải bằng số lượng phần tử của iterable bên phải dấu bằng"
   ]
  },
  {
   "cell_type": "code",
   "execution_count": 6,
   "metadata": {},
   "outputs": [
    {
     "name": "stdout",
     "output_type": "stream",
     "text": [
      "0 1 2 3 4\n"
     ]
    }
   ],
   "source": [
    "a, b, c, d, e= range(0, 5)\n",
    "print(a, b, c, d, e)\n",
    "\n"
   ]
  },
  {
   "cell_type": "code",
   "execution_count": 14,
   "metadata": {},
   "outputs": [
    {
     "name": "stdout",
     "output_type": "stream",
     "text": [
      "[4, 9, 25, 49]\n"
     ]
    }
   ],
   "source": [
    "def myfunc(x):\n",
    "    return x**2\n",
    "\n",
    "a = [2, 3, 5,7]\n",
    "\n",
    "b = list(map(myfunc , a))\n",
    "print(b)"
   ]
  },
  {
   "cell_type": "code",
   "execution_count": 16,
   "metadata": {},
   "outputs": [
    {
     "name": "stdout",
     "output_type": "stream",
     "text": [
      "2 4 6 "
     ]
    }
   ],
   "source": [
    "def myfunc(x):\n",
    "    if x%2==0:\n",
    "        return True\n",
    "    return False\n",
    "\n",
    "\n",
    "a = [1, 2, 3, 4, 5,6 ]\n",
    "\n",
    "# b = list(filter(myfunc, a))\n",
    "\n",
    "for i in a:\n",
    "    if i%2==0:\n",
    "        print(i,end=\" \")\n",
    "# print(b)"
   ]
  }
 ],
 "metadata": {
  "kernelspec": {
   "display_name": "Python 3",
   "language": "python",
   "name": "python3"
  },
  "language_info": {
   "codemirror_mode": {
    "name": "ipython",
    "version": 3
   },
   "file_extension": ".py",
   "mimetype": "text/x-python",
   "name": "python",
   "nbconvert_exporter": "python",
   "pygments_lexer": "ipython3",
   "version": "3.12.0"
  }
 },
 "nbformat": 4,
 "nbformat_minor": 2
}
