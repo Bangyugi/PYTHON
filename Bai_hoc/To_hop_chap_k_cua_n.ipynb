{
 "cells": [
  {
   "cell_type": "code",
   "execution_count": 3,
   "metadata": {},
   "outputs": [
    {
     "name": "stdout",
     "output_type": "stream",
     "text": [
      "45\n",
      "45\n"
     ]
    }
   ],
   "source": [
    "from math import* \n",
    "\n",
    "def solve(n,k):\n",
    "    res = 1\n",
    "    for i in range(1,k+1):\n",
    "        res*=(n-i+1)\n",
    "        res//=i\n",
    "    return res\n",
    "\n",
    "if __name__ == '__main__':\n",
    "    n,k = map(int,input().split())\n",
    "    print (comb(n,k))\n",
    "    print (solve(n,k))"
   ]
  }
 ],
 "metadata": {
  "kernelspec": {
   "display_name": "Python 3",
   "language": "python",
   "name": "python3"
  },
  "language_info": {
   "codemirror_mode": {
    "name": "ipython",
    "version": 3
   },
   "file_extension": ".py",
   "mimetype": "text/x-python",
   "name": "python",
   "nbconvert_exporter": "python",
   "pygments_lexer": "ipython3",
   "version": "3.12.0"
  }
 },
 "nbformat": 4,
 "nbformat_minor": 2
}
