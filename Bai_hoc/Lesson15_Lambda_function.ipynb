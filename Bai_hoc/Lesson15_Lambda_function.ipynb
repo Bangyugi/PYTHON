{
 "cells": [
  {
   "cell_type": "code",
   "execution_count": null,
   "metadata": {},
   "outputs": [],
   "source": [
    "# lambda là một cách đơn giản để định nghĩa một hàm\n",
    "\n",
    "# lambda định nghĩa một hàm vô danh (hàm không có tên)"
   ]
  },
  {
   "cell_type": "code",
   "execution_count": 5,
   "metadata": {},
   "outputs": [
    {
     "name": "stdout",
     "output_type": "stream",
     "text": [
      "20\n",
      "40\n",
      "20\n",
      "40\n",
      "1000\n",
      "6000\n"
     ]
    }
   ],
   "source": [
    "def func(n):\n",
    "    return 2 * n\n",
    "\n",
    "\n",
    "print(func(10))\n",
    "print(func(20))\n",
    "\n",
    "# sử dụng hàm lambda\n",
    "\n",
    "func2 = lambda x: x * 2\n",
    "print(func(10))\n",
    "print(func(20))\n",
    "\n",
    "# lambda không cần câu lệnh return, nó chỉ chứa 1 biểu thức duy nhất, nó có thể được gọi ngay lập tức\n",
    "\n",
    "# cú pháp: lambda parameters: expression\n",
    "\n",
    "print((lambda x: x**3)(10))\n",
    "\n",
    "print((lambda x, y, z: x * y * z)(10, 20, 30))"
   ]
  },
  {
   "cell_type": "code",
   "execution_count": 8,
   "metadata": {},
   "outputs": [
    {
     "name": "stdout",
     "output_type": "stream",
     "text": [
      "[1, 4, 9, 16, 25]\n",
      "[4, 16]\n"
     ]
    }
   ],
   "source": [
    "a = [1, 2, 3, 4, 5]\n",
    "b = list(map(lambda x: x**2, a))\n",
    "print(b)\n",
    "b = list(filter(lambda x: x % 2 == 0, b))\n",
    "print(b)"
   ]
  }
 ],
 "metadata": {
  "kernelspec": {
   "display_name": "Python 3",
   "language": "python",
   "name": "python3"
  },
  "language_info": {
   "codemirror_mode": {
    "name": "ipython",
    "version": 3
   },
   "file_extension": ".py",
   "mimetype": "text/x-python",
   "name": "python",
   "nbconvert_exporter": "python",
   "pygments_lexer": "ipython3",
   "version": "3.12.0"
  }
 },
 "nbformat": 4,
 "nbformat_minor": 2
}
