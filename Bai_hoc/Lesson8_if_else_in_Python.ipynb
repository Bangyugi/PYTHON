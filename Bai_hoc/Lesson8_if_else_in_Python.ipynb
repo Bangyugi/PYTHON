{
 "cells": [
  {
   "cell_type": "code",
   "execution_count": 5,
   "metadata": {},
   "outputs": [
    {
     "name": "stdout",
     "output_type": "stream",
     "text": [
      "Bạn là người lớn\n"
     ]
    }
   ],
   "source": [
    "age = int(input(\"Nhap so tuoi của bạn:\"))\n",
    "if age > 40:\n",
    "    print(\"Bạn là người lớn\")\n",
    "elif age >20:\n",
    "    print(\"Bạn là thanh niên\")\n",
    "elif age>10:\n",
    "    print(\"Bạn là trẻ trâu\") \n",
    "else:\n",
    "    print(\"Bạn là con nít\")\n",
    "\n",
    "\n"
   ]
  },
  {
   "cell_type": "code",
   "execution_count": 7,
   "metadata": {},
   "outputs": [
    {
     "name": "stdout",
     "output_type": "stream",
     "text": [
      "Hello!\n"
     ]
    }
   ],
   "source": [
    "a,b = 50,100\n",
    "m=70\n",
    "if (m>=a) and (m<=100):\n",
    "    print (\"Hello!\")"
   ]
  },
  {
   "cell_type": "code",
   "execution_count": 8,
   "metadata": {},
   "outputs": [
    {
     "name": "stdout",
     "output_type": "stream",
     "text": [
      "28tech\n"
     ]
    }
   ],
   "source": [
    "a, b = 100, 200\n",
    "res = \"28tech\" if a<b else \"python\"\n",
    "print(res)"
   ]
  },
  {
   "cell_type": "code",
   "execution_count": 12,
   "metadata": {},
   "outputs": [
    {
     "name": "stdout",
     "output_type": "stream",
     "text": [
      "N nguyen dương\n",
      "n = 80\n",
      "N la so chan\n"
     ]
    }
   ],
   "source": [
    "n = 80\n",
    "if n>0 : \n",
    "    print(\"N nguyen dương\"); print(\"n =\",n)\n",
    "    if n%2==0 :print(\"N la so chan\") \n",
    "    else: print(\"N là so le\")"
   ]
  }
 ],
 "metadata": {
  "kernelspec": {
   "display_name": "Python 3",
   "language": "python",
   "name": "python3"
  },
  "language_info": {
   "codemirror_mode": {
    "name": "ipython",
    "version": 3
   },
   "file_extension": ".py",
   "mimetype": "text/x-python",
   "name": "python",
   "nbconvert_exporter": "python",
   "pygments_lexer": "ipython3",
   "version": "3.12.0"
  }
 },
 "nbformat": 4,
 "nbformat_minor": 2
}
