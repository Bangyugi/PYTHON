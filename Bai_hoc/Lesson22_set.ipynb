{
 "cells": [
  {
   "cell_type": "markdown",
   "metadata": {},
   "source": [
    "Các tính chất của set:\n",
    " - Các phần tử trong set không có thứ tự nhất định nào cả \n",
    "- Các phần tử trong set là độc nhất, không có 2 phần tử set trùng nhau \n",
    "- Set không thể truy cập được thông qua chỉ số \n",
    "- Set có thể thay đổi\n"
   ]
  },
  {
   "cell_type": "code",
   "execution_count": 5,
   "metadata": {},
   "outputs": [
    {
     "name": "stdout",
     "output_type": "stream",
     "text": [
      "{2, 3, 4, 5, 6, 7, 9}\n",
      "7\n"
     ]
    }
   ],
   "source": [
    "s = {6,3,2,7,9,5,4}\n",
    "print(s)\n",
    "print(len(s))"
   ]
  },
  {
   "cell_type": "code",
   "execution_count": 3,
   "metadata": {},
   "outputs": [
    {
     "name": "stdout",
     "output_type": "stream",
     "text": [
      "{'HTML', 'Python', 'C#', 'Java', 'C++'}\n",
      "{'HTML', 'NodeJs', 'CSS', 'Python', 'C#', 'Java', 'C++', 'JavaScript'}\n"
     ]
    }
   ],
   "source": [
    "s = {\"C++\", \"Python\", \"Java\", \"C#\"}\n",
    "\n",
    "s.add(\"HTML\")\n",
    "print(s)\n",
    "\n",
    "s.update([\"CSS\", \"NodeJs\", \"JavaScript\"])\n",
    "print(s)"
   ]
  },
  {
   "cell_type": "code",
   "execution_count": 6,
   "metadata": {},
   "outputs": [
    {
     "name": "stdout",
     "output_type": "stream",
     "text": [
      "{'Python', 'C#', 'Java'}\n",
      "{'C#', 'Java'}\n",
      "{'Java'}\n",
      "set()\n"
     ]
    }
   ],
   "source": [
    "s = {\"C++\", \"Python\", \"Java\", \"C#\"}\n",
    "\n",
    "s.remove(\"C++\")\n",
    "print(s)\n",
    "s.discard(\"Python\")\n",
    "print(s)\n",
    "s.pop()\n",
    "print(s)\n",
    "s.clear()\n",
    "print(s)"
   ]
  },
  {
   "cell_type": "code",
   "execution_count": 1,
   "metadata": {},
   "outputs": [
    {
     "name": "stdout",
     "output_type": "stream",
     "text": [
      "{'C#'}\n",
      "{'C#'}\n"
     ]
    }
   ],
   "source": [
    "s = {\"C++\", \"Python\", \"Java\", \"C#\"}\n",
    "t = {\"C++\", \"Python\", \"Java\", \"JavaScript\"}\n",
    "u = s.difference(t)\n",
    "v = s - t\n",
    "print(u)\n",
    "print(v)"
   ]
  },
  {
   "cell_type": "code",
   "execution_count": 4,
   "metadata": {},
   "outputs": [
    {
     "name": "stdout",
     "output_type": "stream",
     "text": [
      "{'JavaScript', 'C#'}\n",
      "{'JavaScript', 'C#'}\n"
     ]
    }
   ],
   "source": [
    "s = {\"C++\", \"Python\", \"Java\", \"C#\"}\n",
    "t = {\"C++\", \"Python\", \"Java\", \"JavaScript\"}\n",
    "u = s.symmetric_difference(t)\n",
    "v = s ^ t\n",
    "print(u)\n",
    "print(v)"
   ]
  },
  {
   "cell_type": "code",
   "execution_count": 8,
   "metadata": {},
   "outputs": [
    {
     "name": "stdout",
     "output_type": "stream",
     "text": [
      "True\n"
     ]
    }
   ],
   "source": [
    "s = {\"C++\", \"Python\", \"Java\", \"C#\"}\n",
    "t = {\"C++\", \"Python\",\"C#\"}\n",
    "\n",
    "print(t.issubset(s))"
   ]
  }
 ],
 "metadata": {
  "kernelspec": {
   "display_name": "Python 3",
   "language": "python",
   "name": "python3"
  },
  "language_info": {
   "codemirror_mode": {
    "name": "ipython",
    "version": 3
   },
   "file_extension": ".py",
   "mimetype": "text/x-python",
   "name": "python",
   "nbconvert_exporter": "python",
   "pygments_lexer": "ipython3",
   "version": "3.12.0"
  }
 },
 "nbformat": 4,
 "nbformat_minor": 2
}
