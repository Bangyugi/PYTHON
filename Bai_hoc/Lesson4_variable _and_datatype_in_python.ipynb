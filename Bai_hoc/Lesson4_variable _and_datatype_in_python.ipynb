{
 "cells": [
  {
   "cell_type": "code",
   "execution_count": 3,
   "metadata": {},
   "outputs": [
    {
     "name": "stdout",
     "output_type": "stream",
     "text": [
      "<class 'int'>\n",
      "<class 'str'>\n",
      "<class 'float'>\n"
     ]
    }
   ],
   "source": [
    "a = 100\n",
    "b = \"28tech\"\n",
    "c = 30.25\n",
    "\n",
    "# a, b, c là biến\n",
    "\n",
    "print(a)  # in ra kiểu dữ liệu của biến a\n",
    "print(b)  # in ra kiểu dữ liệu của biến b\n",
    "print(c)  # in ra kiểu dữ liệu của biến c\n",
    "# tên biến trong python là phân biệt hoa và thường"
   ]
  },
  {
   "cell_type": "code",
   "execution_count": 12,
   "metadata": {},
   "outputs": [
    {
     "name": "stdout",
     "output_type": "stream",
     "text": [
      "kieu du lieu cua bien a: <class 'int'>\n",
      "kieu du lieu cua bien b: <class 'float'>\n",
      "kieu du lieu cua bien c: <class 'str'>\n",
      "kieu du lieu cua bien d: <class 'int'>\n",
      "kieu du lieu cua bien e:  <class 'float'>\n"
     ]
    }
   ],
   "source": [
    "# trong python khong cần khai báo kiểu dữ liệu cho biến nó tự động định nghĩa kiểu dữ liệu\n",
    "\n",
    "a = 50\n",
    "b = 50.0\n",
    "c = \"Tran Van Bang\"\n",
    "d = 1241342837654328562384652387465817643875623485763284658234653485\n",
    "print(\"kieu du lieu cua bien a:\", type(a))\n",
    "print(\"kieu du lieu cua bien b:\", type(b))\n",
    "print(\"kieu du lieu cua bien c:\", type(c))\n",
    "print(\"kieu du lieu cua bien d:\", type(d))\n",
    "\n",
    "e = 3e5\n",
    "print(\"kieu du lieu cua bien e: \", type(e))"
   ]
  },
  {
   "cell_type": "code",
   "execution_count": 13,
   "metadata": {},
   "outputs": [
    {
     "name": "stdout",
     "output_type": "stream",
     "text": [
      "28.05\n",
      "28.05\n",
      "28.05\n"
     ]
    }
   ],
   "source": [
    "# làm tròn số thực\n",
    "a = 28.0472323\n",
    "print(\"%.2f\" % a)\n",
    "print(round(a, 2))\n",
    "print(\"{:.2f}\".format(a))"
   ]
  },
  {
   "cell_type": "code",
   "execution_count": 15,
   "metadata": {},
   "outputs": [
    {
     "name": "stdout",
     "output_type": "stream",
     "text": [
      "3.0\n",
      "5.0\n"
     ]
    }
   ],
   "source": [
    "# số phức\n",
    "a = 3 + 5j\n",
    "print(a.real)\n",
    "print(a.imag)"
   ]
  },
  {
   "cell_type": "code",
   "execution_count": 17,
   "metadata": {},
   "outputs": [
    {
     "name": "stdout",
     "output_type": "stream",
     "text": [
      "<class 'bool'>\n",
      "True\n",
      "False\n"
     ]
    }
   ],
   "source": [
    "# bolean\n",
    "a = True\n",
    "print (type(a))\n",
    "\n",
    "a= 100\n",
    "c=0\n",
    "print(bool(a))\n",
    "print(bool(c))"
   ]
  },
  {
   "cell_type": "code",
   "execution_count": 20,
   "metadata": {},
   "outputs": [
    {
     "name": "stdout",
     "output_type": "stream",
     "text": [
      "<class 'str'> 28tech\n",
      "28tech\n"
     ]
    }
   ],
   "source": [
    "# string\n",
    "s = \"28tech\"\n",
    "print(type(s), s)\n",
    "t = \"\"\"python c++\n",
    "    28tech.com.vn\"\"\"\n",
    "print(s)"
   ]
  },
  {
   "cell_type": "code",
   "execution_count": 24,
   "metadata": {},
   "outputs": [
    {
     "name": "stdout",
     "output_type": "stream",
     "text": [
      "12341234 <class 'int'>\n",
      "15.632 <class 'float'>\n"
     ]
    }
   ],
   "source": [
    "# ép kiểu\n",
    "s = \"12341234\"\n",
    "a = int(s)\n",
    "print(a, type(a))\n",
    "\n",
    "d = 15.632\n",
    "t = str(d)\n",
    "print (d, type(d))"
   ]
  },
  {
   "cell_type": "code",
   "execution_count": null,
   "metadata": {},
   "outputs": [],
   "source": []
  }
 ],
 "metadata": {
  "kernelspec": {
   "display_name": "Python 3",
   "language": "python",
   "name": "python3"
  },
  "language_info": {
   "codemirror_mode": {
    "name": "ipython",
    "version": 3
   },
   "file_extension": ".py",
   "mimetype": "text/x-python",
   "name": "python",
   "nbconvert_exporter": "python",
   "pygments_lexer": "ipython3",
   "version": "3.12.0"
  }
 },
 "nbformat": 4,
 "nbformat_minor": 2
}
