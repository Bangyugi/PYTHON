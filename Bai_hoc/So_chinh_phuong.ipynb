{
 "cells": [
  {
   "cell_type": "code",
   "execution_count": 11,
   "metadata": {},
   "outputs": [
    {
     "name": "stdout",
     "output_type": "stream",
     "text": [
      "NO\n"
     ]
    }
   ],
   "source": [
    "from math import* \n",
    "\n",
    "def square(n):\n",
    "    can = isqrt(n)\n",
    "    return can **2 == n\n",
    "\n",
    "def cube(n):\n",
    "    can = int(cbrt(n))\n",
    "    return can**3 == n\n",
    "\n",
    "if __name__ == '__main__':\n",
    "    n = int(input())\n",
    "    if cube(n):\n",
    "        print(\"YES\")\n",
    "    else:\n",
    "        print(\"NO\")\n",
    "    \n",
    "\n",
    "    "
   ]
  }
 ],
 "metadata": {
  "kernelspec": {
   "display_name": "Python 3",
   "language": "python",
   "name": "python3"
  },
  "language_info": {
   "codemirror_mode": {
    "name": "ipython",
    "version": 3
   },
   "file_extension": ".py",
   "mimetype": "text/x-python",
   "name": "python",
   "nbconvert_exporter": "python",
   "pygments_lexer": "ipython3",
   "version": "3.12.0"
  }
 },
 "nbformat": 4,
 "nbformat_minor": 2
}
