{
 "cells": [
  {
   "cell_type": "code",
   "execution_count": 2,
   "metadata": {},
   "outputs": [
    {
     "name": "stdout",
     "output_type": "stream",
     "text": [
      "2 3 5 7 "
     ]
    }
   ],
   "source": [
    "# Dạng 1: kiểm tra số nguyên tố\n",
    "\n",
    "from math import* \n",
    "\n",
    "def isPrime (n):\n",
    "    if n<2:\n",
    "        return False\n",
    "    for i in range(2,isqrt(n)+1):\n",
    "        if n%i==0:\n",
    "            return False\n",
    "    return True\n",
    "\n",
    "if __name__ == '__main__':\n",
    "    n = int(input())\n",
    "    arr = list(map(int,input().split()))\n",
    "    for i in arr:\n",
    "        if isPrime(i):\n",
    "            print(i, end=\" \")"
   ]
  },
  {
   "cell_type": "code",
   "execution_count": 4,
   "metadata": {},
   "outputs": [
    {
     "name": "stdout",
     "output_type": "stream",
     "text": [
      "1 123\n"
     ]
    }
   ],
   "source": [
    "# Dạng 2: tìm max, min \n",
    "\n",
    "from math import *\n",
    "\n",
    "if __name__ == \"__main__\":\n",
    "    arr = list(map(int, input().split()))\n",
    "    min_val = 10**18\n",
    "    max_val = -10**18\n",
    "    for i in arr:\n",
    "        if i<min_val:\n",
    "            min_val = i\n",
    "        if i>max_val:\n",
    "            max_val = i\n",
    "    \n",
    "    print (min_val, max_val)\n"
   ]
  },
  {
   "cell_type": "code",
   "execution_count": null,
   "metadata": {},
   "outputs": [],
   "source": [
    "# Dạng 3: kiểm tra các cặp phần tử trong list thỏa mãn điều kiện nào đó\n",
    "\n",
    "from math import *\n",
    "\n",
    "if __name__ == \"__main__\":\n",
    "    arr = list(map(int, input().split()))\n",
    "    dem =0\n",
    "    for i in range (0,n):\n",
    "        for j in range(i+1, n):\n",
    "            if gcd(arr[i], arr[j])==1: # Kiểm tra các cặp nguyên tố cùng nhau\n",
    "                dem+=1\n",
    "    print (dem)"
   ]
  }
 ],
 "metadata": {
  "kernelspec": {
   "display_name": "Python 3",
   "language": "python",
   "name": "python3"
  },
  "language_info": {
   "codemirror_mode": {
    "name": "ipython",
    "version": 3
   },
   "file_extension": ".py",
   "mimetype": "text/x-python",
   "name": "python",
   "nbconvert_exporter": "python",
   "pygments_lexer": "ipython3",
   "version": "3.12.0"
  }
 },
 "nbformat": 4,
 "nbformat_minor": 2
}
