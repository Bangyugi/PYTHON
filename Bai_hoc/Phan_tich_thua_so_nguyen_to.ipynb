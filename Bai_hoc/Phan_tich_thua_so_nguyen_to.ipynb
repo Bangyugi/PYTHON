{
 "cells": [
  {
   "cell_type": "code",
   "execution_count": 8,
   "metadata": {},
   "outputs": [
    {
     "name": "stdout",
     "output_type": "stream",
     "text": [
      "2 2 3 5 \n",
      "12\n"
     ]
    }
   ],
   "source": [
    "from math import *\n",
    "\n",
    "\n",
    "def thuaSoNguyenTo(n):\n",
    "    for i in range(2, isqrt(n) + 1):\n",
    "        if n % i == 0:\n",
    "            while n % i == 0:\n",
    "                print(i, end=\" \")\n",
    "                n //= i\n",
    "    if n > 1:\n",
    "        print(n, end=\" \")\n",
    "\n",
    "\n",
    "def soLuongUocSo(n):\n",
    "    res = 1\n",
    "    for i in range(2, isqrt(n) + 1):\n",
    "        if n % i == 0:\n",
    "            cnt = 0\n",
    "            while n % i == 0:\n",
    "                n //= i\n",
    "                cnt += 1\n",
    "            res *= cnt + 1\n",
    "    if n > 1:\n",
    "        cnt = 1\n",
    "        res *= cnt + 1\n",
    "    return res\n",
    "\n",
    "\n",
    "if __name__ == \"__main__\":\n",
    "    n = int(input())\n",
    "    thuaSoNguyenTo(n)\n",
    "    print()\n",
    "    print(soLuongUocSo(n))"
   ]
  }
 ],
 "metadata": {
  "kernelspec": {
   "display_name": "Python 3",
   "language": "python",
   "name": "python3"
  },
  "language_info": {
   "codemirror_mode": {
    "name": "ipython",
    "version": 3
   },
   "file_extension": ".py",
   "mimetype": "text/x-python",
   "name": "python",
   "nbconvert_exporter": "python",
   "pygments_lexer": "ipython3",
   "version": "3.12.0"
  }
 },
 "nbformat": 4,
 "nbformat_minor": 2
}
