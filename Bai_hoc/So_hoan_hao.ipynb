{
 "cells": [
  {
   "cell_type": "code",
   "execution_count": 8,
   "metadata": {},
   "outputs": [
    {
     "name": "stdout",
     "output_type": "stream",
     "text": [
      "NO\n"
     ]
    }
   ],
   "source": [
    "from math import* \n",
    "\n",
    "def isPrime (n):\n",
    "    if n<2:\n",
    "        return False\n",
    "    for i in range(2,isqrt(n)+1):\n",
    "        if n%i==0:\n",
    "            return False\n",
    "    return True\n",
    "\n",
    "def perfectNumber(n):\n",
    "    for i in range(2,32):\n",
    "        if isPrime(i) and isPrime(int(pow(2,i)-1)):\n",
    "            if int((pow(2,i)-1) * pow(2,i-1)) == n:\n",
    "                return True\n",
    "    return False\n",
    "\n",
    "if __name__ == '__main__':\n",
    "    n = int(input())\n",
    "    if perfectNumber(n):\n",
    "        print(\"YES\")\n",
    "    else:\n",
    "        print(\"NO\")\n"
   ]
  }
 ],
 "metadata": {
  "kernelspec": {
   "display_name": "Python 3",
   "language": "python",
   "name": "python3"
  },
  "language_info": {
   "codemirror_mode": {
    "name": "ipython",
    "version": 3
   },
   "file_extension": ".py",
   "mimetype": "text/x-python",
   "name": "python",
   "nbconvert_exporter": "python",
   "pygments_lexer": "ipython3",
   "version": "3.12.0"
  }
 },
 "nbformat": 4,
 "nbformat_minor": 2
}
