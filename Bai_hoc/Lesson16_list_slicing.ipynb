{
 "cells": [
  {
   "cell_type": "code",
   "execution_count": 5,
   "metadata": {},
   "outputs": [
    {
     "name": "stdout",
     "output_type": "stream",
     "text": [
      "[30, 40, 50]\n",
      "[30, 40, 50]\n",
      "[10, 20, 30, 40, 50]\n",
      "[30, 40, 50, 60]\n",
      "[30, 50]\n"
     ]
    }
   ],
   "source": [
    "a = [10, 20, 30, 40, 50, 60]\n",
    "b = a[2:5:1]\n",
    "print(b)\n",
    "c = a[2:5]\n",
    "print(c)\n",
    "d = a[:5]\n",
    "# Nếu mình không truyền start thì mặc định start =  0\n",
    "print(d)\n",
    "e = a[2:]\n",
    "# nếu mình không truyền stop thì mặc định stop = -1\n",
    "print(e)\n",
    "# a[start, stop,step]\n",
    "\n",
    "f = a[2:5:2]\n",
    "print(f)"
   ]
  },
  {
   "cell_type": "code",
   "execution_count": 2,
   "metadata": {},
   "outputs": [
    {
     "name": "stdout",
     "output_type": "stream",
     "text": [
      "[6, 5, 4, 3, 2, 1]\n"
     ]
    }
   ],
   "source": [
    "# Lật ngược list\n",
    "a = [1, 2, 3, 4, 5, 6]\n",
    "b = a[::-1]\n",
    "print(b)"
   ]
  },
  {
   "cell_type": "code",
   "execution_count": 5,
   "metadata": {},
   "outputs": [
    {
     "name": "stdout",
     "output_type": "stream",
     "text": [
      "[10, 20, 100, 200, 60, 70, 80]\n"
     ]
    }
   ],
   "source": [
    "# Thay đổi nhiều phần tử trong 1 đoạn\n",
    "\n",
    "a = [10, 20, 30, 40, 50, 60, 70, 80]\n",
    "a[2:5] = [100,200]\n",
    "print(a)"
   ]
  },
  {
   "cell_type": "code",
   "execution_count": 12,
   "metadata": {},
   "outputs": [
    {
     "name": "stdout",
     "output_type": "stream",
     "text": [
      "[1, 2, 3, 10, 20, 30, 40, 50, 60, 70, 80]\n",
      "[1, 2, 3, 10, 20, 30, 40, 50, 60, 70, 80, 4, 5, 6]\n"
     ]
    }
   ],
   "source": [
    "# Chèn và xóa\n",
    "a = [10, 20, 30, 40, 50, 60, 70, 80]\n",
    "a[:0] = [1, 2, 3]\n",
    "print(a)\n",
    "a[len(a) :] = [4, 5, 6]\n",
    "print(a)"
   ]
  },
  {
   "cell_type": "code",
   "execution_count": 14,
   "metadata": {},
   "outputs": [
    {
     "name": "stdout",
     "output_type": "stream",
     "text": [
      "[10, 20, 30, 40, 50, 60, 70, 80]\n",
      "True\n",
      "False\n"
     ]
    }
   ],
   "source": [
    "# Deep copy\n",
    "a = [10, 20, 30, 40, 50, 60, 70, 80]\n",
    "b = a[:]\n",
    "print(b)\n",
    "print(a == b)\n",
    "print(a is b)"
   ]
  }
 ],
 "metadata": {
  "kernelspec": {
   "display_name": "Python 3",
   "language": "python",
   "name": "python3"
  },
  "language_info": {
   "codemirror_mode": {
    "name": "ipython",
    "version": 3
   },
   "file_extension": ".py",
   "mimetype": "text/x-python",
   "name": "python",
   "nbconvert_exporter": "python",
   "pygments_lexer": "ipython3",
   "version": "3.12.0"
  }
 },
 "nbformat": 4,
 "nbformat_minor": 2
}
