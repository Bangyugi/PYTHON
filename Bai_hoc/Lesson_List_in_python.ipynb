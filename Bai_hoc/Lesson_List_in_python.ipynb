{
 "cells": [
  {
   "cell_type": "code",
   "execution_count": 2,
   "metadata": {},
   "outputs": [
    {
     "name": "stdout",
     "output_type": "stream",
     "text": [
      "<class 'list'>\n",
      "[1, 2, 3, 30.5, 'Tran Van Bang']\n"
     ]
    }
   ],
   "source": [
    "a = []\n",
    "b = [1, 2, 3, 30.5, \"Tran Van Bang\"]\n",
    "print(type(a))\n",
    "print(b)"
   ]
  },
  {
   "cell_type": "code",
   "execution_count": 7,
   "metadata": {},
   "outputs": [
    {
     "name": "stdout",
     "output_type": "stream",
     "text": [
      "28Tech\n",
      "['2', '8', 'T', 'e', 'c', 'h']\n"
     ]
    }
   ],
   "source": [
    "s = \"28Tech\"\n",
    "a = list(s)\n",
    "print(s)\n",
    "print(a)"
   ]
  },
  {
   "cell_type": "code",
   "execution_count": 8,
   "metadata": {},
   "outputs": [
    {
     "name": "stdout",
     "output_type": "stream",
     "text": [
      "1\n",
      "5\n"
     ]
    }
   ],
   "source": [
    "# index           0    1    2    3    4\n",
    "# a               2    7    6    3    1\n",
    "# negavtive index -5   -4   -3   -2   -1\n",
    "\n",
    "a = [1, 2, 3, 4, 5]\n",
    "print(a[0])  # O(1)\n",
    "print(a[-1])"
   ]
  },
  {
   "cell_type": "code",
   "execution_count": 13,
   "metadata": {},
   "outputs": [
    {
     "name": "stdout",
     "output_type": "stream",
     "text": [
      "1 2 3 4 5 \n",
      "5 4 3 2 1 \n",
      "1 2 3 4 5 "
     ]
    }
   ],
   "source": [
    "a = [1, 2, 3, 4, 5]\n",
    "for i in range(0, len(a)):\n",
    "    print(a[i], end=\" \")\n",
    "\n",
    "print()\n",
    "\n",
    "for i in range(len(a) - 1, -1, -1):\n",
    "    print(a[i], end=\" \")\n",
    "\n",
    "print()\n",
    "\n",
    "for i in a:\n",
    "    print(i, end=\" \")"
   ]
  },
  {
   "cell_type": "code",
   "execution_count": 14,
   "metadata": {},
   "outputs": [
    {
     "name": "stdout",
     "output_type": "stream",
     "text": [
      "[1, 2, '28tech', 4, 5]\n"
     ]
    }
   ],
   "source": [
    "a = [1, 2, 3, 4, 5]\n",
    "\n",
    "a[2] = \"28tech\"\n",
    "print(a)"
   ]
  },
  {
   "cell_type": "code",
   "execution_count": 15,
   "metadata": {},
   "outputs": [
    {
     "name": "stdout",
     "output_type": "stream",
     "text": [
      "[1, 2, 3, 4, 10]\n",
      "[1, 2, 3, 4, 10, 1000]\n"
     ]
    }
   ],
   "source": [
    "# thêm một phần tử vào cuối trong list\n",
    "a = [1, 2, 3, 4]\n",
    "a.append(10)\n",
    "print(a)\n",
    "a.append(1000)\n",
    "print(a)"
   ]
  },
  {
   "cell_type": "code",
   "execution_count": 18,
   "metadata": {},
   "outputs": [
    {
     "name": "stdout",
     "output_type": "stream",
     "text": [
      "[1, 2, 3, 4, 2]\n"
     ]
    }
   ],
   "source": [
    "# thêm một phần tử vào vị trí bất kỳ trong list\n",
    "a = [1, 2, 3, 4]\n",
    "# chèn 100 vào chỉ số 2\n",
    "a.insert(10, 2)\n",
    "print(a)"
   ]
  },
  {
   "cell_type": "code",
   "execution_count": 23,
   "metadata": {},
   "outputs": [
    {
     "name": "stdout",
     "output_type": "stream",
     "text": [
      "[1, 2, 3, 4, 5, 200]\n",
      "[1, 2, 3, 4, 5]\n",
      "4\n",
      "[1, 2, 5]\n"
     ]
    }
   ],
   "source": [
    "# xóa một phần tử khỏi list\n",
    "a = [1, 2, 10, 3, 4, 5, 200]\n",
    "a.pop(2)\n",
    "print(a)\n",
    "a.pop()\n",
    "print(a)\n",
    "print(a.pop(3))  # pop cũng có thể trả về phần tử bị xóa\n",
    "del a[2]\n",
    "print(a)"
   ]
  },
  {
   "cell_type": "code",
   "execution_count": 24,
   "metadata": {},
   "outputs": [
    {
     "name": "stdout",
     "output_type": "stream",
     "text": [
      "[1, 2, 3, 4, 5, 5, 6]\n"
     ]
    }
   ],
   "source": [
    "# Remove\n",
    "a = [1, 2, 2, 3, 4, 5, 5, 6]\n",
    "a.remove(\n",
    "    2\n",
    ")  # nếu không có phần tử trong mảng chương trình sẽ báo lỗi. nên cẩn thận khi dùng remove\n",
    "print(a)"
   ]
  },
  {
   "cell_type": "code",
   "execution_count": 25,
   "metadata": {},
   "outputs": [
    {
     "name": "stdout",
     "output_type": "stream",
     "text": [
      "[1, 2, 3, 1, 2, 3]\n"
     ]
    }
   ],
   "source": [
    "a = [1, 2, 3]\n",
    "b = a * 2\n",
    "print(b)"
   ]
  },
  {
   "cell_type": "code",
   "execution_count": 26,
   "metadata": {},
   "outputs": [
    {
     "name": "stdout",
     "output_type": "stream",
     "text": [
      "[0, 0, 0, 0, 0, 0, 0, 0, 0, 0, 0, 0, 0, 0, 0, 0, 0, 0, 0, 0, 0, 0, 0, 0, 0, 0, 0, 0, 0, 0, 0, 0, 0, 0, 0, 0, 0, 0, 0, 0, 0, 0, 0, 0, 0, 0, 0, 0, 0, 0, 0, 0, 0, 0, 0, 0, 0, 0, 0, 0, 0, 0, 0, 0, 0, 0, 0, 0, 0, 0, 0, 0, 0, 0, 0, 0, 0, 0, 0, 0, 0, 0, 0, 0, 0, 0, 0, 0, 0, 0, 0, 0, 0, 0, 0, 0, 0, 0, 0, 0]\n"
     ]
    }
   ],
   "source": [
    "a=[0]*100\n",
    "print(a)"
   ]
  },
  {
   "cell_type": "code",
   "execution_count": 27,
   "metadata": {},
   "outputs": [
    {
     "name": "stdout",
     "output_type": "stream",
     "text": [
      "YES\n"
     ]
    }
   ],
   "source": [
    "def linear_search(a,x):\n",
    "    for item in a:\n",
    "        if x == item:\n",
    "            return True\n",
    "    return False\n",
    "\n",
    "a = [1,2,3,4,5]\n",
    "if 5 in a:\n",
    "    print(\"YES\") # độ phức tạp của tìm kiếm là O(n)"
   ]
  },
  {
   "cell_type": "code",
   "execution_count": 30,
   "metadata": {},
   "outputs": [
    {
     "name": "stdout",
     "output_type": "stream",
     "text": [
      "[1, 2, 3, 4, 5, 6, 7, 8]\n",
      "[1, 2, 3, 4, 5, 6, 7, 8]\n"
     ]
    }
   ],
   "source": [
    "# Nối 2 list lại với nhau\n",
    "a = [1, 2, 3, 4]\n",
    "b = [5, 6, 7, 8]\n",
    "print(a + b)\n",
    "a.extend(b)\n",
    "print(a)"
   ]
  },
  {
   "cell_type": "code",
   "execution_count": 34,
   "metadata": {},
   "outputs": [
    {
     "name": "stdout",
     "output_type": "stream",
     "text": [
      "[1, 2, 3]\n"
     ]
    }
   ],
   "source": [
    "# hàm copy\n",
    "a=[1,2,3]\n",
    "b = a.copy()\n",
    "print(b)"
   ]
  },
  {
   "cell_type": "code",
   "execution_count": 35,
   "metadata": {},
   "outputs": [
    {
     "name": "stdout",
     "output_type": "stream",
     "text": [
      "3\n"
     ]
    }
   ],
   "source": [
    "# hàm count\n",
    "a = [1, 2, 3, 1, 2, 1, 3]\n",
    "print(a.count(1))"
   ]
  },
  {
   "cell_type": "code",
   "execution_count": 38,
   "metadata": {},
   "outputs": [
    {
     "name": "stdout",
     "output_type": "stream",
     "text": [
      "2\n"
     ]
    }
   ],
   "source": [
    "# hàm index\n",
    "a = [1, 2, 3, 1, 2, 1, 3]\n",
    "print(a.index(3))"
   ]
  },
  {
   "cell_type": "code",
   "execution_count": 40,
   "metadata": {},
   "outputs": [
    {
     "name": "stdout",
     "output_type": "stream",
     "text": [
      "[4, 3, 2, 1]\n"
     ]
    }
   ],
   "source": [
    "# hàm reverse\n",
    "a = [1, 2, 3, 4]\n",
    "a.reverse() #O(n)\n",
    "print(a)"
   ]
  },
  {
   "cell_type": "code",
   "execution_count": 41,
   "metadata": {},
   "outputs": [
    {
     "name": "stdout",
     "output_type": "stream",
     "text": [
      "[1, 1, 1, 2, 2, 3, 3]\n"
     ]
    }
   ],
   "source": [
    "# hàm sort\n",
    "a = [1, 2, 3, 1, 2, 1, 3]\n",
    "a.sort() #O(nlog(n))\n",
    "print(a)"
   ]
  },
  {
   "cell_type": "code",
   "execution_count": 43,
   "metadata": {},
   "outputs": [
    {
     "name": "stdout",
     "output_type": "stream",
     "text": [
      "True\n"
     ]
    }
   ],
   "source": [
    "# Hàm all(): trả về True nếu mọi phần tử trong list đều là True\n",
    "a = [1, 2, 3, 1, 2, 1, 3]\n",
    "\n",
    "print(all(a))"
   ]
  },
  {
   "cell_type": "code",
   "execution_count": 44,
   "metadata": {},
   "outputs": [
    {
     "name": "stdout",
     "output_type": "stream",
     "text": [
      "True\n"
     ]
    }
   ],
   "source": [
    "# Hàm any(): trả về True nếu có ít nhât 1 phần tử trong list là true\n",
    "\n",
    "a = [0, 0, 0, 1, 0, 0]\n",
    "print(any(a))"
   ]
  },
  {
   "cell_type": "code",
   "execution_count": 45,
   "metadata": {},
   "outputs": [
    {
     "name": "stdout",
     "output_type": "stream",
     "text": [
      "7 1\n"
     ]
    }
   ],
   "source": [
    "# Hàm max(), min():\n",
    "\n",
    "a = [5, 3, 6, 7, 1, 2, 4]\n",
    "print(max(a), min(a))"
   ]
  },
  {
   "cell_type": "code",
   "execution_count": 46,
   "metadata": {},
   "outputs": [
    {
     "name": "stdout",
     "output_type": "stream",
     "text": [
      "[1, 2, 3, 4, 5, 6, 7]\n"
     ]
    }
   ],
   "source": [
    "# Hàm sorted(): Trả về list đã sắp xếp của list ban đầu\n",
    "a = [5, 3, 6, 7, 1, 2, 4]\n",
    "print(sorted(a))"
   ]
  },
  {
   "cell_type": "code",
   "execution_count": 47,
   "metadata": {},
   "outputs": [
    {
     "name": "stdout",
     "output_type": "stream",
     "text": [
      "28\n"
     ]
    }
   ],
   "source": [
    "# Hàm sum(): Trả về tổng của các phần tử trong list\n",
    "a = [5, 3, 6, 7, 1, 2, 4]\n",
    "print(sum(a))"
   ]
  }
 ],
 "metadata": {
  "kernelspec": {
   "display_name": "Python 3",
   "language": "python",
   "name": "python3"
  },
  "language_info": {
   "codemirror_mode": {
    "name": "ipython",
    "version": 3
   },
   "file_extension": ".py",
   "mimetype": "text/x-python",
   "name": "python",
   "nbconvert_exporter": "python",
   "pygments_lexer": "ipython3",
   "version": "3.12.0"
  }
 },
 "nbformat": 4,
 "nbformat_minor": 2
}
