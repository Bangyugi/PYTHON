{
 "cells": [
  {
   "cell_type": "code",
   "execution_count": 5,
   "metadata": {},
   "outputs": [
    {
     "name": "stdout",
     "output_type": "stream",
     "text": [
      "1 2\n",
      "2 2\n",
      "3 1\n",
      "7 1\n"
     ]
    }
   ],
   "source": [
    "# cho mảng gồm n phần tử, đếm xem mõi phần tử trong mảng xuất hiện bao nhiêu lần\n",
    "from math import *\n",
    "\n",
    "if __name__ == \"__main__\":\n",
    "    arr = list(map(int, input().split()))\n",
    "    marked_arr = [0] * 10000001\n",
    "    for i in arr:\n",
    "        marked_arr[i] += 1\n",
    "    for i in range(min(arr), max(arr) + 1):\n",
    "        if marked_arr[i] != 0:\n",
    "            print(i, marked_arr[i])"
   ]
  }
 ],
 "metadata": {
  "kernelspec": {
   "display_name": "Python 3",
   "language": "python",
   "name": "python3"
  },
  "language_info": {
   "codemirror_mode": {
    "name": "ipython",
    "version": 3
   },
   "file_extension": ".py",
   "mimetype": "text/x-python",
   "name": "python",
   "nbconvert_exporter": "python",
   "pygments_lexer": "ipython3",
   "version": "3.12.0"
  }
 },
 "nbformat": 4,
 "nbformat_minor": 2
}
