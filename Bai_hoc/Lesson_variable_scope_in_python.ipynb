{
 "cells": [
  {
   "cell_type": "code",
   "execution_count": 2,
   "metadata": {},
   "outputs": [
    {
     "name": "stdout",
     "output_type": "stream",
     "text": [
      "1000\n"
     ]
    }
   ],
   "source": [
    "# local_scope\n",
    "def localScope():\n",
    "    n=1000 # n là local scope\n",
    "    print(n)\n",
    "\n",
    "if __name__ == \"__main__\":\n",
    "    localScope()\n",
    "    # print(n) không thể in ra n vì n là local scope có nghĩa là n chỉ hoạt động duy nhất trong python"
   ]
  },
  {
   "cell_type": "code",
   "execution_count": 6,
   "metadata": {},
   "outputs": [
    {
     "name": "stdout",
     "output_type": "stream",
     "text": [
      "2804\n",
      "1000\n",
      "2804\n",
      "1000\n"
     ]
    }
   ],
   "source": [
    "from math import*\n",
    "# global scope\n",
    "\n",
    "x=2804 # x là global scope tức là x có thể khai báo tại bất cứ đâu ở chương trình miễn là bên ngoài hàm và x sẽ hoạt động từ dòng nó được khai báo đi xuống\n",
    "\n",
    "n=500 # n global\n",
    "\n",
    "def globalScope():\n",
    "    print(x)\n",
    "    global n\n",
    "    n=1000 # n global\n",
    "    print(n)\n",
    "\n",
    "\n",
    "if __name__ == \"__main__\":\n",
    "    globalScope()\n",
    "    print(x) ## có thể in ra x vì x là global scope\n",
    "    print(n)"
   ]
  },
  {
   "cell_type": "code",
   "execution_count": null,
   "metadata": {},
   "outputs": [],
   "source": [
    "# Enclosing scope\n",
    "\n"
   ]
  }
 ],
 "metadata": {
  "kernelspec": {
   "display_name": "Python 3",
   "language": "python",
   "name": "python3"
  },
  "language_info": {
   "codemirror_mode": {
    "name": "ipython",
    "version": 3
   },
   "file_extension": ".py",
   "mimetype": "text/x-python",
   "name": "python",
   "nbconvert_exporter": "python",
   "pygments_lexer": "ipython3",
   "version": "3.12.0"
  }
 },
 "nbformat": 4,
 "nbformat_minor": 2
}
