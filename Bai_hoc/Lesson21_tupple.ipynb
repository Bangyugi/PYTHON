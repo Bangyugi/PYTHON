{
 "cells": [
  {
   "cell_type": "code",
   "execution_count": 11,
   "metadata": {},
   "outputs": [
    {
     "name": "stdout",
     "output_type": "stream",
     "text": [
      "(1, 2, 3, [8, 100, 9], 5)\n"
     ]
    }
   ],
   "source": [
    "a = (1, 2, 3, [8,7,9], 5)\n",
    "a[3][1] = 100\n",
    "print(a)"
   ]
  },
  {
   "cell_type": "code",
   "execution_count": 12,
   "metadata": {},
   "outputs": [
    {
     "name": "stdout",
     "output_type": "stream",
     "text": [
      "(1, 2, 3, (8, 7, 9), 5)\n"
     ]
    }
   ],
   "source": [
    "a = (1, 2, 3, (8, 7, 9), 5)\n",
    "# nested tuple\n",
    "print(a)"
   ]
  },
  {
   "cell_type": "markdown",
   "metadata": {},
   "source": [
    "Các tính chất của tuple:\n",
    "    - Các phần tử trong tuple có thứ tự\n",
    "    - Truy cập các phần tử trong tuple thông qua chỉ số\n",
    "    - Tuple có thể chứa các phần tử ở mọi loại object kể cả chính nó\n",
    "    - Tuple không thể thay đổi, tức là không thể thêm, sửa, xóa"
   ]
  },
  {
   "cell_type": "code",
   "execution_count": 2,
   "metadata": {},
   "outputs": [
    {
     "name": "stdout",
     "output_type": "stream",
     "text": [
      "<class 'tuple'>\n",
      "<class 'tuple'>\n",
      "<class 'tuple'>\n"
     ]
    }
   ],
   "source": [
    "a = (1,2,3)\n",
    "b = (\"C++\", \"Python\",\"Java\")\n",
    "c=(2004,)\n",
    "print(type(a))\n",
    "print(type(b))\n",
    "print(type(c))\n",
    "\n"
   ]
  },
  {
   "cell_type": "code",
   "execution_count": 2,
   "metadata": {},
   "outputs": [
    {
     "name": "stdout",
     "output_type": "stream",
     "text": [
      "('B', 'a', 'n', 'g', 'V', 'a', 'n')\n",
      "(1, 2, 3)\n"
     ]
    }
   ],
   "source": [
    "s = \"BangVan\"\n",
    "b = tuple(s)\n",
    "c = tuple([1,2,3])\n",
    "print(b)\n",
    "print(c)"
   ]
  }
 ],
 "metadata": {
  "kernelspec": {
   "display_name": "Python 3",
   "language": "python",
   "name": "python3"
  },
  "language_info": {
   "codemirror_mode": {
    "name": "ipython",
    "version": 3
   },
   "file_extension": ".py",
   "mimetype": "text/x-python",
   "name": "python",
   "nbconvert_exporter": "python",
   "pygments_lexer": "ipython3",
   "version": "3.12.0"
  }
 },
 "nbformat": 4,
 "nbformat_minor": 2
}
