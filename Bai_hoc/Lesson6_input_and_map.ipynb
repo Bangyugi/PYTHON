{
 "cells": [
  {
   "cell_type": "code",
   "execution_count": 2,
   "metadata": {},
   "outputs": [
    {
     "name": "stdout",
     "output_type": "stream",
     "text": [
      "Chuoi ky tu vua nhap: afdfsd \n",
      "Kieu du lieu cua chu vua nhap: <class 'str'>\n"
     ]
    }
   ],
   "source": [
    "s = input(\"Nhap vao chuoi ky tu bat ky:\")\n",
    "print(\"Chuoi ky tu vua nhap:\", s)\n",
    "print(\"Kieu du lieu cua chu vua nhap:\", type(s))"
   ]
  },
  {
   "cell_type": "code",
   "execution_count": 4,
   "metadata": {},
   "outputs": [
    {
     "name": "stdout",
     "output_type": "stream",
     "text": [
      "<class 'float'>\n",
      "So vua nhap la: 3124.123\n"
     ]
    }
   ],
   "source": [
    "s = float(input(\"Nhap 1 so thuc bat ky:\"))\n",
    "print (type(s))\n",
    "print(\"So vua nhap la:\", s)"
   ]
  },
  {
   "cell_type": "code",
   "execution_count": 6,
   "metadata": {},
   "outputs": [
    {
     "name": "stdout",
     "output_type": "stream",
     "text": [
      "chu vi : 72\n",
      "dien tich :  288\n"
     ]
    }
   ],
   "source": [
    "a =int(input(\"Nhap chieu dai:\"))\n",
    "b = int(input(\"Nhap chieu rong:\"))\n",
    "chuVi=2*(a+b)\n",
    "dienTich = a*b\n",
    "print(\"chu vi :\", chuVi)\n",
    "print(\"dien tich : \", dienTich)"
   ]
  },
  {
   "cell_type": "code",
   "execution_count": 14,
   "metadata": {},
   "outputs": [
    {
     "name": "stdout",
     "output_type": "stream",
     "text": [
      "[10, 20, 30]\n",
      "a = 10 <class 'int'>\n",
      "b = 20 <class 'int'>\n",
      "c = 30 <class 'int'>\n"
     ]
    }
   ],
   "source": [
    "numbers = list(map(int, input(\"Nhập cả 3 số: \").split()))\n",
    "a,b,c = numbers\n",
    "print(numbers)\n",
    "print(\"a =\", a, type(a))\n",
    "print(\"b =\", b, type(b))\n",
    "print(\"c =\", c, type(c))\n"
   ]
  }
 ],
 "metadata": {
  "kernelspec": {
   "display_name": "Python 3",
   "language": "python",
   "name": "python3"
  },
  "language_info": {
   "codemirror_mode": {
    "name": "ipython",
    "version": 3
   },
   "file_extension": ".py",
   "mimetype": "text/x-python",
   "name": "python",
   "nbconvert_exporter": "python",
   "pygments_lexer": "ipython3",
   "version": "3.12.0"
  }
 },
 "nbformat": 4,
 "nbformat_minor": 2
}
