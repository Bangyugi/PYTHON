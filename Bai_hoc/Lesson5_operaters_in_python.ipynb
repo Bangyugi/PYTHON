{
 "cells": [
  {
   "cell_type": "code",
   "execution_count": 1,
   "metadata": {},
   "outputs": [
    {
     "name": "stdout",
     "output_type": "stream",
     "text": [
      "a = 100\n",
      "b = 100\n"
     ]
    }
   ],
   "source": [
    "# toán tử gán\n",
    "a = 100\n",
    "b = a\n",
    "print (\"a =\",a)\n",
    "print(\"b =\", b)\n",
    "\n"
   ]
  },
  {
   "cell_type": "code",
   "execution_count": 3,
   "metadata": {},
   "outputs": [
    {
     "name": "stdout",
     "output_type": "stream",
     "text": [
      "a = 100\n",
      "b = 200\n",
      "c = 300\n"
     ]
    }
   ],
   "source": [
    "a, b, c = 100, 200, 300\n",
    "print(\"a =\", a)\n",
    "print(\"b =\", b)\n",
    "print(\"c =\", c)"
   ]
  },
  {
   "cell_type": "code",
   "execution_count": 4,
   "metadata": {},
   "outputs": [
    {
     "name": "stdout",
     "output_type": "stream",
     "text": [
      "Bang Tran Van\n"
     ]
    }
   ],
   "source": [
    "firstName =\"Tran Van\"\n",
    "lastName = \"Bang\"\n",
    "firstName , lastName = lastName, firstName\n",
    "print(firstName,lastName)"
   ]
  },
  {
   "cell_type": "code",
   "execution_count": 3,
   "metadata": {},
   "outputs": [
    {
     "name": "stdout",
     "output_type": "stream",
     "text": [
      "20 10\n"
     ]
    }
   ],
   "source": [
    "a = 10\n",
    "b = 20\n",
    "\n",
    "#hoán đổi vị trí a và b\n",
    "\n",
    "a, b = b, a\n",
    "\n",
    "print (a,b)"
   ]
  },
  {
   "cell_type": "code",
   "execution_count": 7,
   "metadata": {},
   "outputs": [
    {
     "name": "stdout",
     "output_type": "stream",
     "text": [
      "1\n"
     ]
    }
   ],
   "source": [
    "# toán tử toán học\n",
    "# + : cộng\n",
    "# - : trừ\n",
    "# * : nhân\n",
    "# / : chia thập phân\n",
    "# // : chia nguyên\n",
    "# % : chia dư\n",
    "# ** : lũy thừa\n",
    "\n",
    "# num1 = 10\n",
    "# num2 = 2\n",
    "\n",
    "# print(\"10 + 2 = \", num1 + num2)\n",
    "# print(\"10 - 2 = \", num1 - num2)\n",
    "# print(\"10 * 2 = \", num1 * num2)\n",
    "# print(\"10 / 2 = \", num1 / num2)\n",
    "# print(\"10 % 2 = \", num1 % num2)\n",
    "# print(\"10 ** 2 = \", num1**num2)\n",
    "# print(\"10 // 2 = \", num1 // num2)\n",
    "\n",
    "num1 = 5\n",
    "num2 = 2\n",
    "print(num1 % num2)"
   ]
  },
  {
   "cell_type": "code",
   "execution_count": 3,
   "metadata": {},
   "outputs": [
    {
     "name": "stdout",
     "output_type": "stream",
     "text": [
      "10 == 10 :  True\n",
      "10 != 10 :  False\n",
      "10 > 5 :  True\n",
      "10 < 5 :  False\n",
      "10 >= 10 :  True\n",
      "10 <= 5 :  False\n"
     ]
    }
   ],
   "source": [
    "# toán tử so sánh\n",
    "print(\"10 == 10 : \", 10 == 10)\n",
    "print(\"10 != 10 : \", 10 != 10)\n",
    "print(\"10 > 5 : \", 10 > 5)\n",
    "print(\"10 < 5 : \", 10 < 5)\n",
    "print(\"10 >= 10 : \", 10 >= 10)\n",
    "print(\"10 <= 5 : \", 10 <= 5)"
   ]
  },
  {
   "cell_type": "code",
   "execution_count": 8,
   "metadata": {},
   "outputs": [
    {
     "name": "stdout",
     "output_type": "stream",
     "text": [
      "x and y :  False\n",
      "x or y :  True\n",
      "not x :  False\n",
      "False\n"
     ]
    }
   ],
   "source": [
    "# toán tử logic\n",
    "\n",
    "x = True\n",
    "y = False\n",
    "\n",
    "print(\"x and y : \", x and y)\n",
    "print(\"x or y : \", x or y)\n",
    "print(\"not x : \", not x)\n",
    "\n",
    "# and trả về true khi và chỉ khi x và y đều là true còn lại trả về false\n",
    "# or trả về true khi chỉ cần x hoặc y true\n",
    "\n",
    "x = True\n",
    "y = False\n",
    "z = True\n",
    "\n",
    "print (not((x or y) and z))\n",
    "\n"
   ]
  },
  {
   "cell_type": "code",
   "execution_count": 5,
   "metadata": {},
   "outputs": [
    {
     "name": "stdout",
     "output_type": "stream",
     "text": [
      "list1 is list2 :  True\n",
      "list1 is not list2 :  False\n",
      "num in list1 :  True\n",
      "num not in list1 :  False\n",
      "True\n",
      "False\n"
     ]
    }
   ],
   "source": [
    "# Toán tử nhận dạng và thành viên\n",
    "list1 = [1, 2, 3, 4, 5]\n",
    "list2 = list1\n",
    "\n",
    "print(\"list1 is list2 : \", list1 is list2)\n",
    "print(\"list1 is not list2 : \", list1 is not list2)\n",
    "\n",
    "num = 3\n",
    "print(\"num in list1 : \", num in list1)\n",
    "print(\"num not in list1 : \", num not in list1)\n",
    "\n",
    "a = [1, 2, 3]\n",
    "b = [1, 2, 3]\n",
    "print(a == b)  ## true\n",
    "print(a is b)  ## flase\n",
    "# giải thích"
   ]
  },
  {
   "cell_type": "code",
   "execution_count": 16,
   "metadata": {},
   "outputs": [
    {
     "name": "stdout",
     "output_type": "stream",
     "text": [
      "3\n"
     ]
    }
   ],
   "source": [
    "\n",
    "list1  = [\"Bằng\", \"Thông\", \"Hoàn\", \"Hằng\", \"Phương\"]\n",
    "# print ( list1)\n",
    "\n",
    "for i in range(0, len(list1)):\n",
    "    if (list1[i] == \"Hằng\"):\n",
    "        print (i)\n",
    "        break "
   ]
  }
 ],
 "metadata": {
  "kernelspec": {
   "display_name": "Python 3",
   "language": "python",
   "name": "python3"
  },
  "language_info": {
   "codemirror_mode": {
    "name": "ipython",
    "version": 3
   },
   "file_extension": ".py",
   "mimetype": "text/x-python",
   "name": "python",
   "nbconvert_exporter": "python",
   "pygments_lexer": "ipython3",
   "version": "3.12.0"
  }
 },
 "nbformat": 4,
 "nbformat_minor": 2
}
