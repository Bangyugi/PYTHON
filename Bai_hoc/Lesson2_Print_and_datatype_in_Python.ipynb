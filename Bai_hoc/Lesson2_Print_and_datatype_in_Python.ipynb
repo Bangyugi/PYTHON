{
 "cells": [
  {
   "cell_type": "code",
   "execution_count": 9,
   "metadata": {},
   "outputs": [
    {
     "name": "stdout",
     "output_type": "stream",
     "text": [
      "100 100 100\n",
      "28tech python\n",
      "28tech_programing\n",
      "28tech python - hello 28tech\n"
     ]
    }
   ],
   "source": [
    "a = 100\n",
    "b = 100\n",
    "c = 100\n",
    "print(a, b, c)\n",
    "print(\"28tech python\")\n",
    "print(\"28tech\", \"programing\", sep=\"_\")\n",
    "print(\"28tech\", end=\" \")\n",
    "print(\"python\", end=\" - \")\n",
    "print(\"hello 28tech\")"
   ]
  },
  {
   "cell_type": "code",
   "execution_count": null,
   "metadata": {},
   "outputs": [],
   "source": []
  }
 ],
 "metadata": {
  "kernelspec": {
   "display_name": "Python 3",
   "language": "python",
   "name": "python3"
  },
  "language_info": {
   "codemirror_mode": {
    "name": "ipython",
    "version": 3
   },
   "file_extension": ".py",
   "mimetype": "text/x-python",
   "name": "python",
   "nbconvert_exporter": "python",
   "pygments_lexer": "ipython3",
   "version": "3.12.0"
  }
 },
 "nbformat": 4,
 "nbformat_minor": 2
}
