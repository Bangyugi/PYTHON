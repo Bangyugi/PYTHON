{
 "cells": [
  {
   "cell_type": "code",
   "execution_count": 1,
   "metadata": {},
   "outputs": [
    {
     "ename": "ValueError",
     "evalue": "invalid literal for int() with base 10: '10 20'",
     "output_type": "error",
     "traceback": [
      "\u001b[1;31m---------------------------------------------------------------------------\u001b[0m",
      "\u001b[1;31mValueError\u001b[0m                                Traceback (most recent call last)",
      "Cell \u001b[1;32mIn[1], line 1\u001b[0m\n\u001b[1;32m----> 1\u001b[0m a \u001b[38;5;241m=\u001b[39m \u001b[38;5;28;43mint\u001b[39;49m\u001b[43m(\u001b[49m\u001b[38;5;28;43minput\u001b[39;49m\u001b[43m(\u001b[49m\u001b[43m)\u001b[49m\u001b[43m)\u001b[49m\n\u001b[0;32m      2\u001b[0m b \u001b[38;5;241m=\u001b[39m \u001b[38;5;28mint\u001b[39m(\u001b[38;5;28minput\u001b[39m())\n\u001b[0;32m      3\u001b[0m \u001b[38;5;28mprint\u001b[39m(a\u001b[38;5;241m+\u001b[39mb)\n",
      "\u001b[1;31mValueError\u001b[0m: invalid literal for int() with base 10: '10 20'"
     ]
    }
   ],
   "source": [
    "a = int(input())\n",
    "b = int(input())\n",
    "print(a+b)"
   ]
  },
  {
   "cell_type": "code",
   "execution_count": null,
   "metadata": {},
   "outputs": [],
   "source": []
  },
  {
   "cell_type": "code",
   "execution_count": 17,
   "metadata": {},
   "outputs": [
    {
     "name": "stdout",
     "output_type": "stream",
     "text": [
      "2\n"
     ]
    }
   ],
   "source": [
    "import math\n",
    "\n",
    "b = int(input())\n",
    "\n",
    "# Can bac 2 cua a\n",
    "print(math.isqrt(b))"
   ]
  },
  {
   "cell_type": "code",
   "execution_count": 14,
   "metadata": {},
   "outputs": [
    {
     "name": "stdout",
     "output_type": "stream",
     "text": [
      "3.0\n"
     ]
    }
   ],
   "source": [
    "import math\n",
    "\n",
    "b = int(input())\n",
    "\n",
    "# Can bac 2 cua b\n",
    "print(int(math.cbrt(b)))\n",
    "# Kiểu dữ liệu trả về luôn là số thực"
   ]
  },
  {
   "cell_type": "code",
   "execution_count": 24,
   "metadata": {},
   "outputs": [
    {
     "name": "stdout",
     "output_type": "stream",
     "text": [
      "3\n",
      "2\n",
      "2\n"
     ]
    }
   ],
   "source": [
    "from math import *\n",
    "a = float(input())\n",
    "print (ceil(a))\n",
    "print(floor(a))\n",
    "print (round(a))"
   ]
  },
  {
   "cell_type": "code",
   "execution_count": 26,
   "metadata": {},
   "outputs": [
    {
     "name": "stdout",
     "output_type": "stream",
     "text": [
      "120\n"
     ]
    }
   ],
   "source": [
    "from math import *\n",
    "\n",
    "a = int(input())\n",
    "\n",
    "print (factorial(a))"
   ]
  },
  {
   "cell_type": "code",
   "execution_count": 28,
   "metadata": {},
   "outputs": [
    {
     "name": "stdout",
     "output_type": "stream",
     "text": [
      "6\n",
      "36\n"
     ]
    }
   ],
   "source": [
    "from math import *\n",
    "\n",
    "a, b = map(int, input().split())\n",
    "\n",
    "print(gcd(a,b))\n",
    "print(lcm(a,b))"
   ]
  },
  {
   "cell_type": "code",
   "execution_count": 2,
   "metadata": {},
   "outputs": [
    {
     "name": "stdout",
     "output_type": "stream",
     "text": [
      "8.0\n",
      "8\n",
      "120\n"
     ]
    }
   ],
   "source": [
    "from math import *\n",
    "\n",
    "print(pow(2,3))\n",
    "print (2**3)\n",
    "\n",
    "print (factorial(5))"
   ]
  },
  {
   "cell_type": "code",
   "execution_count": 5,
   "metadata": {},
   "outputs": [
    {
     "name": "stdout",
     "output_type": "stream",
     "text": [
      "[2, 4, 6, 8, 10]\n"
     ]
    }
   ],
   "source": [
    "\n",
    "t1 = (1, 2, 3, 4, 5, 6, 7, 8, 9, 10)\n",
    "l1 = list(t1)\n",
    "l2 = [x for x in l1 if x%2==0]\n",
    "\n",
    "print(l2)"
   ]
  },
  {
   "cell_type": "code",
   "execution_count": null,
   "metadata": {},
   "outputs": [],
   "source": []
  },
  {
   "cell_type": "code",
   "execution_count": 5,
   "metadata": {},
   "outputs": [
    {
     "name": "stdout",
     "output_type": "stream",
     "text": [
      "kha\n"
     ]
    }
   ],
   "source": [
    "# if:, else:]\n",
    "\n",
    "gpa = 3.0\n",
    "\n",
    "if gpa > 3.1:\n",
    "    print (\"gioi\")\n",
    "else:\n",
    "    print (\"kha\")"
   ]
  },
  {
   "cell_type": "code",
   "execution_count": 11,
   "metadata": {},
   "outputs": [
    {
     "name": "stdout",
     "output_type": "stream",
     "text": [
      "Thanh nien\n"
     ]
    }
   ],
   "source": [
    "# elif : else if\n",
    "tuoi = 19\n",
    "\n",
    "if tuoi > 30:\n",
    "    print (\"Người lớn\")\n",
    "elif tuoi > 18:\n",
    "    print (\"Thanh nien\")\n",
    "else:\n",
    "    print (\"Trẻ trâu\")\n",
    "    print (\"Hay quậy\")\n",
    "\n"
   ]
  },
  {
   "cell_type": "code",
   "execution_count": 6,
   "metadata": {},
   "outputs": [
    {
     "name": "stdout",
     "output_type": "stream",
     "text": [
      "Tổng số khách hàng đã mua ít nhất một danh mục sản phẩm:  9\n",
      "Các khách hàng đã mua ở tất cả các danh mục:  {5}\n",
      "Các khách hàng đã mua sản phẩn từ hơn một danh mục:  {3, 4, 5, 6, 7, 8}\n",
      "6\n"
     ]
    }
   ],
   "source": [
    "A = set(map(int, (input().split())))\n",
    "B = set(map(int, (input().split())))\n",
    "C = set(map(int, (input().split())))\n",
    "\n",
    "print(\n",
    "    \"Tổng số khách hàng đã mua ít nhất một danh mục sản phẩm: \",\n",
    "    len(A.union(B.union(C))),\n",
    ")\n",
    "print(\n",
    "    \"Các khách hàng đã mua ở tất cả các danh mục: \", A.intersection(B.intersection(C))\n",
    ")\n",
    "\n",
    "set_1 = A.intersection(B)\n",
    "set_2 = A.intersection(C)\n",
    "set_3 = B.intersection(C)\n",
    "\n",
    "set_4 = set_1.union(set_2.union(set_3))\n",
    "print(\"Các khách hàng đã mua sản phẩn từ hơn một danh mục: \", set_4)\n",
    "\n",
    "D = [len(A), len(B), len(C)]\n",
    "print(max(D))"
   ]
  },
  {
   "cell_type": "code",
   "execution_count": 6,
   "metadata": {},
   "outputs": [
    {
     "name": "stdout",
     "output_type": "stream",
     "text": [
      "1\n"
     ]
    }
   ],
   "source": [
    "from math import* \n",
    "\n",
    "def fact(n):\n",
    "    if n == 0:\n",
    "        return 1\n",
    "    else:\n",
    "        return n*fact(n-1)\n",
    "\n",
    "if __name__ == '__main__':\n",
    "    a = int(input())\n",
    "    print(fact(a))\n",
    "\n",
    "\n"
   ]
  },
  {
   "cell_type": "code",
   "execution_count": 13,
   "metadata": {},
   "outputs": [
    {
     "name": "stdout",
     "output_type": "stream",
     "text": [
      "[1, 1, 2, 3, 5, 8, 13, 21, 34, 55]\n"
     ]
    }
   ],
   "source": [
    "fibonacci = [0] * 10\n",
    "fibonacci[0] = 1\n",
    "fibonacci[1] = 1\n",
    "for i in range(2,9+1):\n",
    "    fibonacci[i]=fibonacci[i-1]+fibonacci[i-2]\n",
    "print(fibonacci)"
   ]
  },
  {
   "cell_type": "code",
   "execution_count": 21,
   "metadata": {},
   "outputs": [
    {
     "name": "stdout",
     "output_type": "stream",
     "text": [
      "1, 1, 2, 3, 5, 8, 13, 21, 34, 55, "
     ]
    }
   ],
   "source": [
    "from math import* \n",
    "def fibo(n):\n",
    "    if n == 1 or n == 2:\n",
    "        return 1\n",
    "    else:           \n",
    "        return fibo(n-1) +fibo(n-2)\n",
    "    \n",
    "\n",
    "if __name__ == '__main__':\n",
    "    for i in range (1,11):\n",
    "        print(fibo(i),end=', ')"
   ]
  },
  {
   "cell_type": "code",
   "execution_count": null,
   "metadata": {},
   "outputs": [],
   "source": []
  }
 ],
 "metadata": {
  "kernelspec": {
   "display_name": "Python 3",
   "language": "python",
   "name": "python3"
  },
  "language_info": {
   "codemirror_mode": {
    "name": "ipython",
    "version": 3
   },
   "file_extension": ".py",
   "mimetype": "text/x-python",
   "name": "python",
   "nbconvert_exporter": "python",
   "pygments_lexer": "ipython3",
   "version": "3.12.0"
  }
 },
 "nbformat": 4,
 "nbformat_minor": 2
}
